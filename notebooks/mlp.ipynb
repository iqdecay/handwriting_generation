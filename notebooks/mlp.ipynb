{
 "cells": [
  {
   "cell_type": "code",
   "execution_count": 1,
   "metadata": {},
   "outputs": [],
   "source": [
    "%matplotlib inline\n",
    "import numpy as np\n",
    "import matplotlib\n",
    "import sys \n",
    "import matplotlib.pyplot as plt\n",
    "sys.path.insert(0,'..')\n",
    "from utils import plot_stroke\n",
    "import string"
   ]
  },
  {
   "cell_type": "code",
   "execution_count": 2,
   "metadata": {},
   "outputs": [],
   "source": [
    "import torch\n",
    "import torch.nn as nn\n",
    "import torch.nn.functional as F\n",
    "import torch.optim as optim\n",
    "from torch.utils import data"
   ]
  },
  {
   "cell_type": "code",
   "execution_count": 3,
   "metadata": {},
   "outputs": [],
   "source": [
    "from sklearn.model_selection import KFold, train_test_split"
   ]
  },
  {
   "cell_type": "code",
   "execution_count": 10,
   "metadata": {},
   "outputs": [],
   "source": [
    "strokes = np.load('../data/strokes-py3.npy', allow_pickle=True)\n",
    "with open('../data/sentences.txt') as f:\n",
    "    texts = f.readlines()\n",
    "\n",
    "texts = texts[:1000]\n",
    "strokes = strokes[:1000]"
   ]
  },
  {
   "cell_type": "code",
   "execution_count": 11,
   "metadata": {},
   "outputs": [
    {
     "name": "stdout",
     "output_type": "stream",
     "text": [
      "55 1181\n"
     ]
    }
   ],
   "source": [
    "texts_length = [len(text) for text in texts]\n",
    "strokes_length = [len(stroke) for stroke in strokes]\n",
    "input_size = max(texts_length)\n",
    "output_size = max(strokes_length)\n",
    "print(input_size, output_size)"
   ]
  },
  {
   "cell_type": "code",
   "execution_count": 12,
   "metadata": {},
   "outputs": [],
   "source": [
    "# First, I would have the tendancy to \"clean\" the data, that is : \n",
    "# - lowercase\n",
    "# - remove non alphanumerical characters\n",
    "# It might be a little too much, but this is a first step to understand how I should go about doing the task\n",
    "import re\n",
    "pattern = re.compile(\"\\W\")\n",
    "def clean_sentence(sentence):\n",
    "    sentence = sentence.lower()\n",
    "    return sentence[:-1]\n",
    "    \n",
    "def pad_sentence(sentence, limit):\n",
    "    # First, we need to zero-pad the inputs, because the sentence are all of variable length\n",
    "    # The average length of sentences is 30 chars, with 95% of sentences between 20 and 60 chars\n",
    "    # So we are going to zero pad every sequence that has less than 30 characters, and discard \n",
    "    # all the characters beyond the 30th\n",
    "    l = len(sentence)\n",
    "    if l > limit :\n",
    "        return sentence[:limit]\n",
    "    for i in range(l, limit):\n",
    "        sentence += \" \"\n",
    "    return sentence\n",
    "\n",
    "def pad_sequence(sequence, limit):\n",
    "    l = len(sequence)\n",
    "    if l > limit :\n",
    "        return sequence[:limit]\n",
    "    for i in range(l, limit):\n",
    "        sequence = np.append(sequence, [[0,0,0]],axis=0)\n",
    "    return sequence"
   ]
  },
  {
   "cell_type": "code",
   "execution_count": 13,
   "metadata": {},
   "outputs": [],
   "source": [
    "clean_texts = [clean_sentence(sentence) for sentence in texts]\n",
    "texts_padded = [pad_sentence(string, input_size) for string in clean_texts]\n",
    "# charset will provide the basis for letter embedding\n",
    "charset = set()\n",
    "for text in texts_padded:\n",
    "    for char in text :\n",
    "        charset.add(char)\n",
    "charset = list(charset)\n",
    "charset.sort()"
   ]
  },
  {
   "cell_type": "code",
   "execution_count": 14,
   "metadata": {},
   "outputs": [],
   "source": [
    "def sentence_to_vector(sentence):\n",
    "    sentence_vector = []\n",
    "    for char in sentence :\n",
    "        index = charset.index(char)\n",
    "        sentence_vector.append(index)\n",
    "    return sentence_vector\n",
    "\n",
    "def vector_to_sentence(vector):\n",
    "    sentence = \"\"\n",
    "    for index in list(vector):\n",
    "        print(index)\n",
    "        sentence += charset[index]\n",
    "    return sentence\n",
    "    \n",
    "sentence_vectors = []\n",
    "for sentence in texts_padded :\n",
    "    sentence_vector = sentence_to_vector(sentence)\n",
    "    sentence_vectors.append(sentence_vector)\n",
    "sentence_vectors = np.array(sentence_vectors)"
   ]
  },
  {
   "cell_type": "code",
   "execution_count": 15,
   "metadata": {},
   "outputs": [
    {
     "name": "stdout",
     "output_type": "stream",
     "text": [
      "1000\n"
     ]
    }
   ],
   "source": [
    "sequence_vectors = []\n",
    "i = 0\n",
    "for sequence in strokes :\n",
    "    i += 1\n",
    "    if i % 1000 == 0 :\n",
    "        print(i)\n",
    "        \n",
    "    sequence_vector = pad_sequence(sequence, output_size) \n",
    "    sequence_vectors.append(sequence_vector)\n",
    "sequence_vectors = np.array(sequence_vectors)"
   ]
  },
  {
   "cell_type": "code",
   "execution_count": 16,
   "metadata": {},
   "outputs": [
    {
     "name": "stdout",
     "output_type": "stream",
     "text": [
      "(1000, 1181, 3)\n",
      "(1000, 55)\n",
      "55 1181\n"
     ]
    }
   ],
   "source": [
    "print(sequence_vectors.shape)\n",
    "print(sentence_vectors.shape)\n",
    "print(input_size, output_size)"
   ]
  },
  {
   "cell_type": "code",
   "execution_count": 17,
   "metadata": {},
   "outputs": [],
   "source": [
    "class Dataset(data.Dataset):\n",
    "  'Characterizes a dataset for PyTorch'\n",
    "  def __init__(self, sentences, sequences):\n",
    "        'Initialization'\n",
    "        self.sentences = sentences\n",
    "        self.sequences = sequences\n",
    "\n",
    "  def __len__(self):\n",
    "        'Denotes the total number of samples'\n",
    "        return len(self.sentences)\n",
    "\n",
    "\n",
    "  def __getitem__(self, index):\n",
    "        'Generates one sample of data'\n",
    "        # Select sample\n",
    "        # Load data and get label\n",
    "        X = self.sentences[index]\n",
    "        y = self.sequences[index]\n",
    "\n",
    "        return X, y\n"
   ]
  },
  {
   "cell_type": "code",
   "execution_count": 18,
   "metadata": {},
   "outputs": [],
   "source": [
    "class Net(nn.Module):\n",
    "    def __init__(self, input_size, output_size):\n",
    "        super(Net, self).__init__()\n",
    "        self.fc1 = nn.Linear(input_size, 1000)\n",
    "        self.fc2 = nn.Linear(1000, 3*output_size)\n",
    "    def forward(self, x):\n",
    "        x = F.relu(self.fc1(x))\n",
    "        x = self.fc2(x)\n",
    "        return x\n",
    "    def num_flat_features(self,x):\n",
    "        size = x.size()[1:] # all dimensions except batch dimension\n",
    "        num_features = 1\n",
    "        for s in size :\n",
    "            num_features *= s\n",
    "        return num_features"
   ]
  },
  {
   "cell_type": "code",
   "execution_count": 29,
   "metadata": {},
   "outputs": [
    {
     "name": "stdout",
     "output_type": "stream",
     "text": [
      "epoch 5\n",
      "epoch 10\n",
      "epoch 15\n",
      "epoch 20\n",
      "epoch 25\n",
      "Early stopping at epoch 29\n",
      "epoch 5\n",
      "epoch 10\n",
      "epoch 15\n",
      "epoch 20\n",
      "epoch 25\n",
      "Early stopping at epoch 28\n",
      "epoch 5\n",
      "epoch 10\n",
      "epoch 15\n",
      "epoch 20\n",
      "epoch 25\n",
      "epoch 30\n",
      "Early stopping at epoch 31\n",
      "epoch 5\n",
      "epoch 10\n",
      "epoch 15\n",
      "epoch 20\n",
      "epoch 25\n",
      "epoch 30\n",
      "Early stopping at epoch 30\n"
     ]
    }
   ],
   "source": [
    "max_epochs = 1000\n",
    "cv = KFold(n_splits = 4)\n",
    "params = {\n",
    "    \"batch_size\" : 32\n",
    "}\n",
    "\n",
    "tol = 1e-4\n",
    "n_iter_no_change = 10\n",
    "X,y = sentence_vectors[:100], sequence_vectors[:100]\n",
    "#X, y = sentence_vectors, sequence_vectors\n",
    "fold_index = 0\n",
    "train_losses = dict()\n",
    "validation_losses = dict()\n",
    "null_validation_losses = dict()\n",
    "indexes = dict()\n",
    "for train_index, test_index in cv.split(X):\n",
    "        fold_index += 1\n",
    "        ### Create a NEW neural network\n",
    "        net = Net(input_size, output_size)\n",
    "        null_net = Net(input_size, output_size)\n",
    "        null_net = null_net.double()\n",
    "        # Generate data\n",
    "        X_train, y_train = X[train_index], y[train_index]\n",
    "        X_test, y_test = X[test_index], y[test_index]\n",
    "        X_test, y_test = torch.tensor(X_test, dtype=torch.double), torch.tensor(y_test, dtype = torch.double)\n",
    "        X_train, X_val, y_train, y_val = train_test_split(X_train, y_train, test_size = 0.1)\n",
    "        X_train, X_val = torch.tensor(X_train, dtype=torch.double), torch.tensor(X_val, dtype=torch.double)\n",
    "        y_train, y_val = torch.tensor(y_train, dtype=torch.double), torch.tensor(y_val, dtype=torch.double)\n",
    "        train_length = X_train.shape[0]\n",
    "        validation_length = X_val.shape[0]\n",
    "        testing_length = X_test.shape[0]\n",
    "        training_set = Dataset(X_train, y_train)\n",
    "        validation_set = Dataset(X_val, y_val)\n",
    "        testing_set = Dataset(X_test, y_test)\n",
    "        training_generator = data.DataLoader(training_set, **params)\n",
    "        validation_generator = data.DataLoader(validation_set, **params)\n",
    "        testing_generator = data.DataLoader(testing_set, **params)\n",
    "        # Create optimizer\n",
    "        optimizer = optim.Adam(net.parameters(), lr=0.001, weight_decay = 0.0001)\n",
    "        criterion = nn.MSELoss()\n",
    "        \n",
    "        # Prepare logging\n",
    "        \n",
    "        best_validation_loss = 1e10\n",
    "        no_improvement_count = 0\n",
    "        train_losses[fold_index] = []\n",
    "        validation_losses[fold_index] = []\n",
    "        null_validation_losses[fold_index] = []\n",
    "        \n",
    "        for epoch in range(1,max_epochs+1) :\n",
    "            # Training\n",
    "            minibatch_number = 1\n",
    "            loss_sum = 0\n",
    "            for local_batch, local_labels in training_generator:\n",
    "                optimizer.zero_grad()   # zero the gradient buffers\n",
    "                net = net.double()\n",
    "                output = net(local_batch)\n",
    "                labels = local_labels.reshape(output.shape)\n",
    "                loss = criterion(output, labels.double())\n",
    "                loss.backward()\n",
    "                optimizer.step() # Does the update\n",
    "                loss_sum += loss.item()\n",
    "                minibatch_number += 1\n",
    "            train_loss = loss_sum / train_length\n",
    "            train_losses[fold_index].append(train_loss)\n",
    "            \n",
    "            # Validation\n",
    "            minibatch_number = 1\n",
    "            loss_sum = 0\n",
    "            null_loss_sum = 0\n",
    "            with torch.set_grad_enabled(False):\n",
    "                for local_batch, local_labels in validation_generator:\n",
    "                    output = net(local_batch)\n",
    "                    null_output = null_net(local_batch)\n",
    "                    labels = local_labels.reshape(output.shape)\n",
    "                    loss = criterion(output, labels.double())\n",
    "                    null_loss = criterion(null_output, labels.double())\n",
    "                    loss_sum += loss.item()\n",
    "                    null_loss_sum += null_loss.item()\n",
    "                    minibatch_number += 1\n",
    "            validation_loss = loss_sum / validation_length\n",
    "            null_validation_loss = null_loss_sum / validation_length\n",
    "            validation_losses[fold_index].append(validation_loss)\n",
    "            null_validation_losses[fold_index].append(null_validation_loss)\n",
    "            # Check for early-stopping\n",
    "            if validation_loss > (best_validation_loss - tol):\n",
    "                no_improvement_count += 1\n",
    "            else :\n",
    "                no_improvement_count = 0\n",
    "            if validation_loss < best_validation_loss :\n",
    "                best_validation_loss = validation_loss\n",
    "            if epoch % 5 == 0 :\n",
    "                print(\"epoch {}\".format(epoch))\n",
    "            if no_improvement_count > n_iter_no_change :\n",
    "                # The loss hasn't improved by 'tol' for more than 'n_iter_no_change' epochs\n",
    "                print(\"Early stopping at epoch {}\".format(epoch))\n",
    "                break"
   ]
  },
  {
   "cell_type": "code",
   "execution_count": 78,
   "metadata": {},
   "outputs": [
    {
     "ename": "SyntaxError",
     "evalue": "invalid syntax (<ipython-input-78-1a1c05a8a753>, line 3)",
     "output_type": "error",
     "traceback": [
      "\u001b[0;36m  File \u001b[0;32m\"<ipython-input-78-1a1c05a8a753>\"\u001b[0;36m, line \u001b[0;32m3\u001b[0m\n\u001b[0;31m    params =\u001b[0m\n\u001b[0m            ^\u001b[0m\n\u001b[0;31mSyntaxError\u001b[0m\u001b[0;31m:\u001b[0m invalid syntax\n"
     ]
    }
   ],
   "source": [
    "testing_losses = dict()\n",
    "fold_index = 0\n",
    "params = {\n",
    "    \"batch_size\" : 1\n",
    "}\n",
    "\n",
    "for train_index, test_index in cv.split(X):\n",
    "    fold_index += 1\n",
    "    testing_losses[fold_index] = []\n",
    "    X_test = X[test_index]\n",
    "    testing_length = X_test.shape[0]\n",
    "    X_test, y_test = torch.tensor(X_test, dtype=torch.double), torch.tensor(y_test, dtype = torch.double)\n",
    "    testing_set = Dataset(X_test, y_test)\n",
    "    testing_generator = data.DataLoader(testing_set, **params)\n",
    "    minibatch_number = 1\n",
    "    loss_sum = 0\n",
    "    with torch.set_grad_enabled(False):\n",
    "        for local_batch, local_labels in testing_generator:\n",
    "            print(local_batch.shape)\n",
    "            output = net(local_batch)\n",
    "            labels = local_labels.reshape(output.shape)\n",
    "            loss = criterion(output, labels.double())\n",
    "            loss_sum += loss.item()\n",
    "            print(loss.item())\n",
    "            print(fold_index)\n",
    "            minibatch_number += 1\n",
    "    testing_loss = loss_sum / testing_length\n",
    "    testing_losses[fold_index].append(testing_loss)"
   ]
  },
  {
   "cell_type": "code",
   "execution_count": null,
   "metadata": {},
   "outputs": [],
   "source": []
  },
  {
   "cell_type": "code",
   "execution_count": 73,
   "metadata": {},
   "outputs": [
    {
     "name": "stdout",
     "output_type": "stream",
     "text": [
      "{1: [0.4341075450500031], 2: [0.4341075450500031], 3: [0.4341075450500031], 4: [0.4341075450500031]}\n"
     ]
    }
   ],
   "source": [
    "\n",
    "print(testing_losses)"
   ]
  },
  {
   "cell_type": "code",
   "execution_count": 67,
   "metadata": {},
   "outputs": [
    {
     "data": {
      "image/png": "[encoded data removed]",
      "text/plain": [
       "<Figure size 1440x1440 with 4 Axes>"
      ]
     },
     "metadata": {
      "needs_background": "light"
     },
     "output_type": "display_data"
    }
   ],
   "source": [
    "plt.rcParams[\"figure.figsize\"] = (20,20)\n",
    "for fold_index in range(1,5):\n",
    "    plt.subplot(4,1,fold_index)\n",
    "    plt.plot(train_losses[fold_index])\n",
    "    plt.plot(validation_losses[fold_index])\n",
    "    plt.plot(testing_losses[fold_index])\n"
   ]
  },
  {
   "cell_type": "code",
   "execution_count": null,
   "metadata": {},
   "outputs": [],
   "source": [
    "with torch.set_grad_enabled(False):\n",
    "    for j in range(len(X_test)):\n",
    "        o = net(X_test[j]).reshape(output_size,3)\n",
    "        for i in range(len(o)):\n",
    "            if o[i][0] > 0.8 :\n",
    "                o[i][0] = 1\n",
    "            else : \n",
    "                o[i][0] = 0\n",
    "        plot_stroke(o)\n",
    "        plot_stroke(y_test[j])\n",
    "print(o)\n",
    "print(len(X_train))"
   ]
  },
  {
   "cell_type": "code",
   "execution_count": 27,
   "metadata": {},
   "outputs": [
    {
     "name": "stdout",
     "output_type": "stream",
     "text": [
      "50\n"
     ]
    }
   ],
   "source": [
    "print(len(X_test))"
   ]
  },
  {
   "cell_type": "code",
   "execution_count": null,
   "metadata": {},
   "outputs": [],
   "source": []
  }
 ],
 "metadata": {
  "kernelspec": {
   "display_name": "Python 3",
   "language": "python",
   "name": "python3"
  },
  "language_info": {
   "codemirror_mode": {
    "name": "ipython",
    "version": 3
   },
   "file_extension": ".py",
   "mimetype": "text/x-python",
   "name": "python",
   "nbconvert_exporter": "python",
   "pygments_lexer": "ipython3",
   "version": "3.6.9"
  }
 },
 "nbformat": 4,
 "nbformat_minor": 2
}
